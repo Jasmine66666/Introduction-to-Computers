{
  "nbformat": 4,
  "nbformat_minor": 0,
  "metadata": {
    "colab": {
      "provenance": [],
      "authorship_tag": "ABX9TyPv2O1TbvQsuZs8kldEF5KR",
      "include_colab_link": true
    },
    "kernelspec": {
      "name": "python3",
      "display_name": "Python 3"
    },
    "language_info": {
      "name": "python"
    }
  },
  "cells": [
    {
      "cell_type": "markdown",
      "metadata": {
        "id": "view-in-github",
        "colab_type": "text"
      },
      "source": [
        "<a href=\"https://colab.research.google.com/github/Jasmine66666/Introduction-to-Computers/blob/main/0517.ipynb\" target=\"_parent\"><img src=\"https://colab.research.google.com/assets/colab-badge.svg\" alt=\"Open In Colab\"/></a>"
      ]
    },
    {
      "cell_type": "code",
      "execution_count": 1,
      "metadata": {
        "colab": {
          "base_uri": "https://localhost:8080/"
        },
        "id": "NE5fmipX4klg",
        "outputId": "f1e40812-01e6-448e-b859-642ab8c04725"
      },
      "outputs": [
        {
          "output_type": "stream",
          "name": "stdout",
          "text": [
            "0517\n"
          ]
        }
      ],
      "source": [
        "print(\"0517\")"
      ]
    },
    {
      "cell_type": "code",
      "source": [
        "score=int(input(\"score: \"))\n",
        "if score >= 90:\n",
        "  print(\"Grade is: A\")\n",
        "elif score >= 80:\n",
        "  print(\"Grade is: B\")\n",
        "elif score >= 70:\n",
        "  print(\"Grade is: C\")\n",
        "elif score >= 60:\n",
        "  print(\"Grade is: D\")\n",
        "else:\n",
        "  print(\"Grade is: F\")"
      ],
      "metadata": {
        "colab": {
          "base_uri": "https://localhost:8080/"
        },
        "id": "vtFivPs8eXV4",
        "outputId": "3ba49c06-28af-4175-bbec-661ed50d2909"
      },
      "execution_count": 2,
      "outputs": [
        {
          "output_type": "stream",
          "name": "stdout",
          "text": [
            "score: 50\n",
            "Grade is: F\n"
          ]
        }
      ]
    },
    {
      "cell_type": "code",
      "source": [
        "rain=str(input(\"今天會下雨嗎?\"))\n",
        "if rain==\"Y\":\n",
        "  print(\"出門記得帶傘\")\n",
        "elif rain==\"N\":\n",
        "  print(\"不用帶傘\")\n",
        "else:\n",
        "  print(\"請重新輸入\")"
      ],
      "metadata": {
        "colab": {
          "base_uri": "https://localhost:8080/"
        },
        "id": "6BY_TXWIiOJ5",
        "outputId": "92ef62ca-c9e8-4dba-fdda-1693dc55eb7a"
      },
      "execution_count": 7,
      "outputs": [
        {
          "output_type": "stream",
          "name": "stdout",
          "text": [
            "今天會下雨嗎?idk\n",
            "請重新輸入\n"
          ]
        }
      ]
    },
    {
      "cell_type": "code",
      "source": [
        "tem=int(input(\"請輸入體溫: \"))\n",
        "if tem >= 37.5:\n",
        "  print(\"體溫過高!\")\n",
        "elif tem<=37.4 and tem>=37:\n",
        "  print(\"體溫略高!\")\n",
        "elif tem<=36.9 and tem>=34:\n",
        "  print(\"體溫正常!\")\n",
        "else:\n",
        "  print(\"體溫異常，請重新測量!\")"
      ],
      "metadata": {
        "colab": {
          "base_uri": "https://localhost:8080/"
        },
        "id": "8BZhgbq5ipMQ",
        "outputId": "d8fac46c-c4f3-47b4-9639-b3556b727dfc"
      },
      "execution_count": 13,
      "outputs": [
        {
          "output_type": "stream",
          "name": "stdout",
          "text": [
            "請輸入體溫: 18\n",
            "體溫異常，請重新測量!\n"
          ]
        }
      ]
    },
    {
      "cell_type": "code",
      "source": [
        "score=int(input(\"請輸入成績: \"))\n",
        "if score >= 90:\n",
        "  print(\"A\")\n",
        "elif score >= 80:\n",
        "  print(\"B\")\n",
        "elif score >= 70:\n",
        "  print(\"C\")\n",
        "elif score >= 60:\n",
        "  print(\"D\")\n",
        "else:\n",
        "  print(\"E\")"
      ],
      "metadata": {
        "colab": {
          "base_uri": "https://localhost:8080/"
        },
        "id": "HhQ4sIg5kdwu",
        "outputId": "475a2ec6-7e17-4099-fdc6-097eeec6e71f"
      },
      "execution_count": 14,
      "outputs": [
        {
          "output_type": "stream",
          "name": "stdout",
          "text": [
            "請輸入成績: 50\n",
            "E\n"
          ]
        }
      ]
    },
    {
      "cell_type": "code",
      "source": [
        "mon=int(input(\"請輸入月份: \"))\n",
        "if mon in (3,4,5):\n",
        "  print(mon,\"月是春天!\")\n",
        "elif mon in (6,7,8):\n",
        "  print(mon,\"月是夏天!\")\n",
        "elif mon in (9,10,11):\n",
        "  print(mon,\"月是秋天!\")\n",
        "elif mon in (12,1,2):\n",
        "  print(mon,\"月是冬天!\")\n",
        "else:\n",
        "  print(\"月份不再範圍內!\")"
      ],
      "metadata": {
        "colab": {
          "base_uri": "https://localhost:8080/"
        },
        "id": "SL2Rd2adnykU",
        "outputId": "1dab5a0e-cb73-4b05-fcbd-15380a6b0451"
      },
      "execution_count": 15,
      "outputs": [
        {
          "output_type": "stream",
          "name": "stdout",
          "text": [
            "請輸入月份: 6\n",
            "6 月是夏天!\n"
          ]
        }
      ]
    },
    {
      "cell_type": "code",
      "source": [
        "money=int(input(\"請輸入今年收入淨額: \"))\n",
        "if money >= 2000000:\n",
        "    tax_rate = 0.3\n",
        "elif money >= 1000000:\n",
        "    tax_rate = 0.21\n",
        "elif money >= 600000:\n",
        "    tax_rate = 0.13\n",
        "elif money >= 300000:\n",
        "    tax_rate = 0.06\n",
        "else:\n",
        "    tax_rate = 0\n",
        "tax_amount = money * tax_rate\n",
        "print(\"付稅金額：\", tax_amount,\"元\")"
      ],
      "metadata": {
        "colab": {
          "base_uri": "https://localhost:8080/"
        },
        "id": "CJLGsky-qJO-",
        "outputId": "7f2afe5f-9dc5-4b1b-b7b7-881fa761ff19"
      },
      "execution_count": 16,
      "outputs": [
        {
          "output_type": "stream",
          "name": "stdout",
          "text": [
            "請輸入今年收入淨額: 100000\n",
            "付稅金額： 0 元\n"
          ]
        }
      ]
    },
    {
      "cell_type": "code",
      "source": [
        "money=int(input(\"請輸入今年收入淨額: \"))\n",
        "if money >= 2000000:\n",
        "    tax_rate = 0.3\n",
        "elif money >= 1000000:\n",
        "    tax_rate = 0.21\n",
        "elif money >= 600000:\n",
        "    tax_rate = 0.13\n",
        "elif money >= 300000:\n",
        "    tax_rate = 0.06\n",
        "else:\n",
        "    tax_rate = 0\n",
        "tax_amount = money * tax_rate\n",
        "print(\"付稅金額：\", tax_amount,\"元\")"
      ],
      "metadata": {
        "colab": {
          "base_uri": "https://localhost:8080/"
        },
        "id": "4RoHN9_Xrt8W",
        "outputId": "50c321bc-b036-4055-d263-f053e939bc1d"
      },
      "execution_count": 17,
      "outputs": [
        {
          "output_type": "stream",
          "name": "stdout",
          "text": [
            "請輸入今年收入淨額: 2000000\n",
            "付稅金額： 600000.0 元\n"
          ]
        }
      ]
    },
    {
      "cell_type": "code",
      "source": [],
      "metadata": {
        "id": "NuB5xZ6Fr58N"
      },
      "execution_count": null,
      "outputs": []
    }
  ]
}