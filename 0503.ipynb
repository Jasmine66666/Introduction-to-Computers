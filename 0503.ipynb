{
  "nbformat": 4,
  "nbformat_minor": 0,
  "metadata": {
    "colab": {
      "provenance": [],
      "authorship_tag": "ABX9TyMoaXsJXqSmepq2eRh7wTjq",
      "include_colab_link": true
    },
    "kernelspec": {
      "name": "python3",
      "display_name": "Python 3"
    },
    "language_info": {
      "name": "python"
    }
  },
  "cells": [
    {
      "cell_type": "markdown",
      "metadata": {
        "id": "view-in-github",
        "colab_type": "text"
      },
      "source": [
        "<a href=\"https://colab.research.google.com/github/Jasmine66666/Introduction-to-Computers/blob/main/0503.ipynb\" target=\"_parent\"><img src=\"https://colab.research.google.com/assets/colab-badge.svg\" alt=\"Open In Colab\"/></a>"
      ]
    },
    {
      "cell_type": "code",
      "execution_count": 1,
      "metadata": {
        "colab": {
          "base_uri": "https://localhost:8080/"
        },
        "id": "vwA3iI8Sws2n",
        "outputId": "ca52365c-a6ea-498c-f6df-3b3d0d711b94"
      },
      "outputs": [
        {
          "output_type": "stream",
          "name": "stdout",
          "text": [
            "peiyu\n"
          ]
        }
      ],
      "source": [
        "print(\"peiyu\")"
      ]
    },
    {
      "cell_type": "code",
      "source": [
        "x=int(input())\n",
        "sum=0\n",
        "for i in range (1,x+1):\n",
        "  sum+=i\n",
        "print(sum)"
      ],
      "metadata": {
        "colab": {
          "base_uri": "https://localhost:8080/"
        },
        "id": "7eIKpwwB1GIw",
        "outputId": "5444999a-2d7f-4cb8-d23d-dea0d35fe9eb"
      },
      "execution_count": 2,
      "outputs": [
        {
          "output_type": "stream",
          "name": "stdout",
          "text": [
            "100\n",
            "5050\n"
          ]
        }
      ]
    },
    {
      "cell_type": "code",
      "source": [
        "h,w=map(int,input().split())\n",
        "BMI=w*10000/h**2\n",
        "print(\"%.2f\" %BMI)"
      ],
      "metadata": {
        "colab": {
          "base_uri": "https://localhost:8080/"
        },
        "id": "IcVxpwHM1naS",
        "outputId": "c4f252bd-49dd-450e-aef3-873f5064b8f5"
      },
      "execution_count": 4,
      "outputs": [
        {
          "output_type": "stream",
          "name": "stdout",
          "text": [
            "176 75\n",
            "24.21\n"
          ]
        }
      ]
    },
    {
      "cell_type": "code",
      "source": [],
      "metadata": {
        "id": "WKGD6hU52Txv"
      },
      "execution_count": 4,
      "outputs": []
    }
  ]
}